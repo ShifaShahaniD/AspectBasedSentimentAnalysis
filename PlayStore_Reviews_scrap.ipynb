{
  "nbformat": 4,
  "nbformat_minor": 0,
  "metadata": {
    "colab": {
      "provenance": []
    },
    "kernelspec": {
      "name": "python3",
      "display_name": "Python 3"
    },
    "language_info": {
      "name": "python"
    }
  },
  "cells": [
    {
      "cell_type": "code",
      "execution_count": null,
      "metadata": {
        "colab": {
          "base_uri": "https://localhost:8080/"
        },
        "id": "1xpXFpE4Oe4s",
        "outputId": "e54d3760-4a37-4e0c-df78-9b3f523bef06"
      },
      "outputs": [
        {
          "output_type": "stream",
          "name": "stdout",
          "text": [
            "Looking in indexes: https://pypi.org/simple, https://us-python.pkg.dev/colab-wheels/public/simple/\n",
            "Collecting google-play-scraper\n",
            "  Downloading google_play_scraper-1.2.2-py3-none-any.whl (28 kB)\n",
            "Installing collected packages: google-play-scraper\n",
            "Successfully installed google-play-scraper-1.2.2\n"
          ]
        }
      ],
      "source": [
        "pip install google-play-scraper"
      ]
    },
    {
      "cell_type": "code",
      "source": [
        "from google_play_scraper import app\n",
        "import pandas as pd\n",
        "import numpy as np"
      ],
      "metadata": {
        "id": "hAfone89OnMn"
      },
      "execution_count": null,
      "outputs": []
    },
    {
      "cell_type": "code",
      "source": [
        "from google_play_scraper import Sort, reviews_all\n",
        "\n",
        "reviews = reviews_all(\n",
        "    'com.fsn.nykaa',      #extract the link from the respective apps' playstore url\n",
        "                          #Example:\"https://play.google.com/store/apps/details?id=com.fsn.nykaa\" extract the part after 'id'\n",
        "    sleep_milliseconds=0, # defaults to 0\n",
        "    lang='en', # defaults to 'en'\n",
        "    country='in', # defaults to 'in'\n",
        "    sort=Sort.NEWEST, # defaults to Sort.MOST_RELEVANT\n",
        ")"
      ],
      "metadata": {
        "id": "PXYwo19HO-BT"
      },
      "execution_count": null,
      "outputs": []
    },
    {
      "cell_type": "code",
      "source": [
        "df_nyk = pd.DataFrame(np.array(reviews),columns=['review'])\n",
        "\n",
        "\n",
        "df_nyk = df_nyk.join(pd.DataFrame(df_nyk.pop('review').tolist()))\n",
        "\n",
        "\n",
        "\n",
        "df_nyk.head()"
      ],
      "metadata": {
        "colab": {
          "base_uri": "https://localhost:8080/",
          "height": 582
        },
        "id": "xxBpcjhOPQPx",
        "outputId": "aa1b1f7d-a64f-436c-fb48-989ea5b32c95"
      },
      "execution_count": null,
      "outputs": [
        {
          "output_type": "execute_result",
          "data": {
            "text/plain": [
              "                               reviewId           userName  \\\n",
              "0  26077c66-953c-49f7-bcda-e9a8d120a08b       Rashid jamal   \n",
              "1  d4d02d58-93d7-4f53-8f5e-f2e7323b0e2a   Shruti Chowdhury   \n",
              "2  1f9291ce-f139-4260-a5eb-aef48be359ba  Afsana PERINGALAM   \n",
              "3  94561571-917c-443c-90ff-d140ac328fb2     Deepak Sukhija   \n",
              "4  e3cea1dc-f873-4f90-a406-38d4fab3c762     Sanchayita Das   \n",
              "\n",
              "                                           userImage  \\\n",
              "0  https://play-lh.googleusercontent.com/a/AItbvm...   \n",
              "1  https://play-lh.googleusercontent.com/a-/AFdZu...   \n",
              "2  https://play-lh.googleusercontent.com/a/AItbvm...   \n",
              "3  https://play-lh.googleusercontent.com/a-/AFdZu...   \n",
              "4  https://play-lh.googleusercontent.com/a-/AFdZu...   \n",
              "\n",
              "                                             content  score  thumbsUpCount  \\\n",
              "0                                   It's amazing app      5              0   \n",
              "1  Actually nykaa deserve 0 stars. The customer c...      1              0   \n",
              "2                                            Exelent      5              0   \n",
              "3                                                 Ok      5              0   \n",
              "4  Allover it's a nice application for online sho...      4              0   \n",
              "\n",
              "  reviewCreatedVersion                  at replyContent repliedAt  \n",
              "0                2.9.8 2022-08-29 15:33:41         None       NaT  \n",
              "1                2.9.9 2022-08-29 15:23:03         None       NaT  \n",
              "2                2.8.5 2022-08-29 15:19:12         None       NaT  \n",
              "3                2.9.8 2022-08-29 15:04:56         None       NaT  \n",
              "4                2.8.8 2022-08-29 14:34:32         None       NaT  "
            ],
            "text/html": [
              "\n",
              "  <div id=\"df-ae1f2cec-30ea-48af-b2ab-50e7935fc453\">\n",
              "    <div class=\"colab-df-container\">\n",
              "      <div>\n",
              "<style scoped>\n",
              "    .dataframe tbody tr th:only-of-type {\n",
              "        vertical-align: middle;\n",
              "    }\n",
              "\n",
              "    .dataframe tbody tr th {\n",
              "        vertical-align: top;\n",
              "    }\n",
              "\n",
              "    .dataframe thead th {\n",
              "        text-align: right;\n",
              "    }\n",
              "</style>\n",
              "<table border=\"1\" class=\"dataframe\">\n",
              "  <thead>\n",
              "    <tr style=\"text-align: right;\">\n",
              "      <th></th>\n",
              "      <th>reviewId</th>\n",
              "      <th>userName</th>\n",
              "      <th>userImage</th>\n",
              "      <th>content</th>\n",
              "      <th>score</th>\n",
              "      <th>thumbsUpCount</th>\n",
              "      <th>reviewCreatedVersion</th>\n",
              "      <th>at</th>\n",
              "      <th>replyContent</th>\n",
              "      <th>repliedAt</th>\n",
              "    </tr>\n",
              "  </thead>\n",
              "  <tbody>\n",
              "    <tr>\n",
              "      <th>0</th>\n",
              "      <td>26077c66-953c-49f7-bcda-e9a8d120a08b</td>\n",
              "      <td>Rashid jamal</td>\n",
              "      <td>https://play-lh.googleusercontent.com/a/AItbvm...</td>\n",
              "      <td>It's amazing app</td>\n",
              "      <td>5</td>\n",
              "      <td>0</td>\n",
              "      <td>2.9.8</td>\n",
              "      <td>2022-08-29 15:33:41</td>\n",
              "      <td>None</td>\n",
              "      <td>NaT</td>\n",
              "    </tr>\n",
              "    <tr>\n",
              "      <th>1</th>\n",
              "      <td>d4d02d58-93d7-4f53-8f5e-f2e7323b0e2a</td>\n",
              "      <td>Shruti Chowdhury</td>\n",
              "      <td>https://play-lh.googleusercontent.com/a-/AFdZu...</td>\n",
              "      <td>Actually nykaa deserve 0 stars. The customer c...</td>\n",
              "      <td>1</td>\n",
              "      <td>0</td>\n",
              "      <td>2.9.9</td>\n",
              "      <td>2022-08-29 15:23:03</td>\n",
              "      <td>None</td>\n",
              "      <td>NaT</td>\n",
              "    </tr>\n",
              "    <tr>\n",
              "      <th>2</th>\n",
              "      <td>1f9291ce-f139-4260-a5eb-aef48be359ba</td>\n",
              "      <td>Afsana PERINGALAM</td>\n",
              "      <td>https://play-lh.googleusercontent.com/a/AItbvm...</td>\n",
              "      <td>Exelent</td>\n",
              "      <td>5</td>\n",
              "      <td>0</td>\n",
              "      <td>2.8.5</td>\n",
              "      <td>2022-08-29 15:19:12</td>\n",
              "      <td>None</td>\n",
              "      <td>NaT</td>\n",
              "    </tr>\n",
              "    <tr>\n",
              "      <th>3</th>\n",
              "      <td>94561571-917c-443c-90ff-d140ac328fb2</td>\n",
              "      <td>Deepak Sukhija</td>\n",
              "      <td>https://play-lh.googleusercontent.com/a-/AFdZu...</td>\n",
              "      <td>Ok</td>\n",
              "      <td>5</td>\n",
              "      <td>0</td>\n",
              "      <td>2.9.8</td>\n",
              "      <td>2022-08-29 15:04:56</td>\n",
              "      <td>None</td>\n",
              "      <td>NaT</td>\n",
              "    </tr>\n",
              "    <tr>\n",
              "      <th>4</th>\n",
              "      <td>e3cea1dc-f873-4f90-a406-38d4fab3c762</td>\n",
              "      <td>Sanchayita Das</td>\n",
              "      <td>https://play-lh.googleusercontent.com/a-/AFdZu...</td>\n",
              "      <td>Allover it's a nice application for online sho...</td>\n",
              "      <td>4</td>\n",
              "      <td>0</td>\n",
              "      <td>2.8.8</td>\n",
              "      <td>2022-08-29 14:34:32</td>\n",
              "      <td>None</td>\n",
              "      <td>NaT</td>\n",
              "    </tr>\n",
              "  </tbody>\n",
              "</table>\n",
              "</div>\n",
              "      <button class=\"colab-df-convert\" onclick=\"convertToInteractive('df-ae1f2cec-30ea-48af-b2ab-50e7935fc453')\"\n",
              "              title=\"Convert this dataframe to an interactive table.\"\n",
              "              style=\"display:none;\">\n",
              "        \n",
              "  <svg xmlns=\"http://www.w3.org/2000/svg\" height=\"24px\"viewBox=\"0 0 24 24\"\n",
              "       width=\"24px\">\n",
              "    <path d=\"M0 0h24v24H0V0z\" fill=\"none\"/>\n",
              "    <path d=\"M18.56 5.44l.94 2.06.94-2.06 2.06-.94-2.06-.94-.94-2.06-.94 2.06-2.06.94zm-11 1L8.5 8.5l.94-2.06 2.06-.94-2.06-.94L8.5 2.5l-.94 2.06-2.06.94zm10 10l.94 2.06.94-2.06 2.06-.94-2.06-.94-.94-2.06-.94 2.06-2.06.94z\"/><path d=\"M17.41 7.96l-1.37-1.37c-.4-.4-.92-.59-1.43-.59-.52 0-1.04.2-1.43.59L10.3 9.45l-7.72 7.72c-.78.78-.78 2.05 0 2.83L4 21.41c.39.39.9.59 1.41.59.51 0 1.02-.2 1.41-.59l7.78-7.78 2.81-2.81c.8-.78.8-2.07 0-2.86zM5.41 20L4 18.59l7.72-7.72 1.47 1.35L5.41 20z\"/>\n",
              "  </svg>\n",
              "      </button>\n",
              "      \n",
              "  <style>\n",
              "    .colab-df-container {\n",
              "      display:flex;\n",
              "      flex-wrap:wrap;\n",
              "      gap: 12px;\n",
              "    }\n",
              "\n",
              "    .colab-df-convert {\n",
              "      background-color: #E8F0FE;\n",
              "      border: none;\n",
              "      border-radius: 50%;\n",
              "      cursor: pointer;\n",
              "      display: none;\n",
              "      fill: #1967D2;\n",
              "      height: 32px;\n",
              "      padding: 0 0 0 0;\n",
              "      width: 32px;\n",
              "    }\n",
              "\n",
              "    .colab-df-convert:hover {\n",
              "      background-color: #E2EBFA;\n",
              "      box-shadow: 0px 1px 2px rgba(60, 64, 67, 0.3), 0px 1px 3px 1px rgba(60, 64, 67, 0.15);\n",
              "      fill: #174EA6;\n",
              "    }\n",
              "\n",
              "    [theme=dark] .colab-df-convert {\n",
              "      background-color: #3B4455;\n",
              "      fill: #D2E3FC;\n",
              "    }\n",
              "\n",
              "    [theme=dark] .colab-df-convert:hover {\n",
              "      background-color: #434B5C;\n",
              "      box-shadow: 0px 1px 3px 1px rgba(0, 0, 0, 0.15);\n",
              "      filter: drop-shadow(0px 1px 2px rgba(0, 0, 0, 0.3));\n",
              "      fill: #FFFFFF;\n",
              "    }\n",
              "  </style>\n",
              "\n",
              "      <script>\n",
              "        const buttonEl =\n",
              "          document.querySelector('#df-ae1f2cec-30ea-48af-b2ab-50e7935fc453 button.colab-df-convert');\n",
              "        buttonEl.style.display =\n",
              "          google.colab.kernel.accessAllowed ? 'block' : 'none';\n",
              "\n",
              "        async function convertToInteractive(key) {\n",
              "          const element = document.querySelector('#df-ae1f2cec-30ea-48af-b2ab-50e7935fc453');\n",
              "          const dataTable =\n",
              "            await google.colab.kernel.invokeFunction('convertToInteractive',\n",
              "                                                     [key], {});\n",
              "          if (!dataTable) return;\n",
              "\n",
              "          const docLinkHtml = 'Like what you see? Visit the ' +\n",
              "            '<a target=\"_blank\" href=https://colab.research.google.com/notebooks/data_table.ipynb>data table notebook</a>'\n",
              "            + ' to learn more about interactive tables.';\n",
              "          element.innerHTML = '';\n",
              "          dataTable['output_type'] = 'display_data';\n",
              "          await google.colab.output.renderOutput(dataTable, element);\n",
              "          const docLink = document.createElement('div');\n",
              "          docLink.innerHTML = docLinkHtml;\n",
              "          element.appendChild(docLink);\n",
              "        }\n",
              "      </script>\n",
              "    </div>\n",
              "  </div>\n",
              "  "
            ]
          },
          "metadata": {},
          "execution_count": 4
        }
      ]
    },
    {
      "cell_type": "code",
      "source": [
        "pd.DataFrame(df_nyk).to_csv('nykaa.csv',index=False)"
      ],
      "metadata": {
        "id": "sjvixww6P6f5"
      },
      "execution_count": null,
      "outputs": []
    },
    {
      "cell_type": "code",
      "source": [
        "df_nyk.shape"
      ],
      "metadata": {
        "colab": {
          "base_uri": "https://localhost:8080/"
        },
        "id": "yISJn3BKVNDq",
        "outputId": "523082a9-8dec-4d29-a3d0-eac709883a95"
      },
      "execution_count": null,
      "outputs": [
        {
          "output_type": "execute_result",
          "data": {
            "text/plain": [
              "(231925, 10)"
            ]
          },
          "metadata": {},
          "execution_count": 7
        }
      ]
    }
  ]
}